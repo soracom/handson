{
 "cells": [
  {
   "cell_type": "markdown",
   "metadata": {
    "deletable": true,
    "editable": true
   },
   "source": [
    "# 全体の流れ\n",
    "\n",
    "## 分析の前準備\n",
    "- BigQueryから収集したデータの抽出\n",
    "- データを扱いやすく整形\n",
    "- 統計情報を確認\n",
    "- データの可視化\n",
    "- データの特徴\n",
    "    - 外気温は比較的一定\n",
    "    - CPU温度はよく変化する\n",
    "    \n",
    "## 分析の実施\n",
    "\n",
    "CPU温度が外気温を越えて熱くならないようにコントロールしたい。そのためにどうデータを扱うかのサンプルを確認する。ここで作ったモデルを実際にプロダクション環境に組み込めることを想定して作りましょう。\n",
    "\n",
    "# 分析の前準備\n",
    "## BigQueryからのデータ抽出とデータ整形"
   ]
  },
  {
   "cell_type": "code",
   "execution_count": null,
   "metadata": {
    "collapsed": true,
    "deletable": true,
    "editable": true
   },
   "outputs": [],
   "source": [
    "%%bq query -n requests\n",
    "SELECT datetime, cpu_temperature, temperature\n",
    "FROM `soracom_handson.raspi_env`\n",
    "order by datetime asc "
   ]
  },
  {
   "cell_type": "code",
   "execution_count": null,
   "metadata": {
    "collapsed": true,
    "deletable": true,
    "editable": true
   },
   "outputs": [],
   "source": [
    "import google.datalab.bigquery as bq\n",
    "import pandas as pd\n",
    "\n",
    "df_from_bq = requests.execute(output_options=bq.QueryOutput.dataframe()).result()"
   ]
  },
  {
   "cell_type": "code",
   "execution_count": null,
   "metadata": {
    "collapsed": true,
    "deletable": true,
    "editable": true
   },
   "outputs": [],
   "source": [
    "# データの確認\n",
    "df_from_bq"
   ]
  },
  {
   "cell_type": "code",
   "execution_count": null,
   "metadata": {
    "collapsed": true,
    "deletable": true,
    "editable": true
   },
   "outputs": [],
   "source": [
    "# 文字列型でデータが取得されているので変換\n",
    "df_from_bq['datetime'] = pd.to_datetime(df_from_bq['datetime'])\n",
    "df_from_bq['cpu_temperature'] = df_from_bq['cpu_temperature'].astype('float')\n",
    "df_from_bq['temperature'] = df_from_bq['temperature'].astype('float')\n",
    "\n",
    "# 時系列データ化する\n",
    "df = df_from_bq[['cpu_temperature', 'temperature']]\n",
    "df.index = df_from_bq['datetime'].values"
   ]
  },
  {
   "cell_type": "code",
   "execution_count": null,
   "metadata": {
    "collapsed": true,
    "deletable": true,
    "editable": true
   },
   "outputs": [],
   "source": [
    "# データの確認\n",
    "df"
   ]
  },
  {
   "cell_type": "markdown",
   "metadata": {
    "deletable": true,
    "editable": true
   },
   "source": [
    "## 統計情報の確認"
   ]
  },
  {
   "cell_type": "code",
   "execution_count": null,
   "metadata": {
    "collapsed": true,
    "deletable": true,
    "editable": true
   },
   "outputs": [],
   "source": [
    "df.describe()"
   ]
  },
  {
   "cell_type": "markdown",
   "metadata": {
    "deletable": true,
    "editable": true
   },
   "source": [
    "## 時系列データとして可視化する"
   ]
  },
  {
   "cell_type": "code",
   "execution_count": null,
   "metadata": {
    "collapsed": true,
    "deletable": true,
    "editable": true
   },
   "outputs": [],
   "source": [
    "df.plot(y=['cpu_temperature', 'temperature'], figsize=(16,4), alpha=0.5)"
   ]
  },
  {
   "cell_type": "markdown",
   "metadata": {
    "deletable": true,
    "editable": true
   },
   "source": [
    "## 散布図として可視化する"
   ]
  },
  {
   "cell_type": "code",
   "execution_count": null,
   "metadata": {
    "collapsed": true,
    "deletable": true,
    "editable": true
   },
   "outputs": [],
   "source": [
    "df.plot(kind='scatter', x='cpu_temperature', y='temperature', c='cpu_temperature', cmap='winter')"
   ]
  },
  {
   "cell_type": "markdown",
   "metadata": {
    "deletable": true,
    "editable": true
   },
   "source": [
    "## 相関係数を確認する"
   ]
  },
  {
   "cell_type": "code",
   "execution_count": null,
   "metadata": {
    "collapsed": true,
    "deletable": true,
    "editable": true
   },
   "outputs": [],
   "source": [
    "# 散布図から定性的に確認できた相関をさらに定量的に確認する\n",
    "import numpy as np\n",
    "\n",
    "np.corrcoef(df['cpu_temperature'], df['temperature'])"
   ]
  },
  {
   "cell_type": "markdown",
   "metadata": {
    "deletable": true,
    "editable": true
   },
   "source": [
    "# 分析の実施\n",
    "## Step1：最新のCPU温度と外気温を比較する\n",
    "時間順にソートされた最新のデータを使って、CPU温度と外気温を比較する方法"
   ]
  },
  {
   "cell_type": "code",
   "execution_count": null,
   "metadata": {
    "collapsed": true,
    "deletable": true,
    "editable": true
   },
   "outputs": [],
   "source": [
    "df.tail(1)['cpu_temperature'] > df.tail(1)['temperature']"
   ]
  },
  {
   "cell_type": "markdown",
   "metadata": {
    "deletable": true,
    "editable": true
   },
   "source": [
    "### この方法の問題点\n",
    "温度の大小関係が少しでも変わるとすぐに判定が変わってしまう。もう少しなだらかに判定するロジックとしたい"
   ]
  },
  {
   "cell_type": "markdown",
   "metadata": {
    "deletable": true,
    "editable": true
   },
   "source": [
    "## Step2：最新からN個のデータを使ってCPU温度と外気温を比較する\n",
    "時間順にソートされたN個のデータを使って、CPU温度が外気温より大きくなっている場合の数をカウントする方法"
   ]
  },
  {
   "cell_type": "code",
   "execution_count": null,
   "metadata": {
    "collapsed": true,
    "deletable": true,
    "editable": true
   },
   "outputs": [],
   "source": [
    "N = 10\n",
    "threashold = 8\n",
    "df_N = df.tail(N)\n",
    "sum(df_N['cpu_temperature'] > df_N['temperature']) > threashold"
   ]
  },
  {
   "cell_type": "markdown",
   "metadata": {
    "deletable": true,
    "editable": true
   },
   "source": [
    "### この方法の問題点\n",
    "Step1よりは確実に良いロジックとなっているが、引き続き、閾値の設定がややシビアに思える。もう少しなだからな判定ロジックとしたい。"
   ]
  },
  {
   "cell_type": "markdown",
   "metadata": {
    "deletable": true,
    "editable": true
   },
   "source": [
    "## Step3：移動平均使って比較する"
   ]
  },
  {
   "cell_type": "code",
   "execution_count": null,
   "metadata": {
    "collapsed": true,
    "deletable": true,
    "editable": true
   },
   "outputs": [],
   "source": [
    "# 10項移動平均\n",
    "df.rolling(window=20, center=False).mean()\n",
    "\n",
    "# 10項移動平均の最新のものを比較材料に使う\n",
    "moving_average = df.rolling(window=10, center=False).mean().tail(1)\n",
    "\n",
    "moving_average['cpu_temperature'] > moving_average['temperature']"
   ]
  },
  {
   "cell_type": "markdown",
   "metadata": {},
   "source": [
    "## この後は\n",
    "\n",
    "時系列データの分析の基本として、データモデリングというものがあります。周期性のある変動や、突発的な変動を除きつつ大きな方向性でトレンドを見つけるというものです。今回のハンズオンでは時間の都合で取り扱いませんが、ぜひチャレンジしてみてください。"
   ]
  }
 ],
 "metadata": {
  "kernelspec": {
   "display_name": "Python 2",
   "language": "python",
   "name": "python2"
  },
  "language_info": {
   "codemirror_mode": {
    "name": "ipython",
    "version": 2
   },
   "file_extension": ".py",
   "mimetype": "text/x-python",
   "name": "python",
   "nbconvert_exporter": "python",
   "pygments_lexer": "ipython2",
   "version": "2.7.12"
  }
 },
 "nbformat": 4,
 "nbformat_minor": 2
}
